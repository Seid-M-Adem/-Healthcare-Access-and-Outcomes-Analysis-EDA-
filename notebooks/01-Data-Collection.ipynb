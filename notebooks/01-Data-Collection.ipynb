import pandas as pd
import numpy as np

# Load Global Burden of Disease (GBD) data for 2021 and 2024
gbd_data_2021 = pd.read_csv('data/raw/gbd_data_2021.csv')
gbd_data_2024 = pd.read_csv('data/raw/gbd_data_2024.csv')

# Load WHO Health Services data
who_health_services = pd.read_csv('data/raw/who_health_services.csv')

# Load World Bank Health Expenditures data
world_bank_health_expenditures = pd.read_csv('data/raw/world_bank_health_expenditures.csv')

